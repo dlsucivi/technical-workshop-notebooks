{
 "cells": [
  {
   "cell_type": "markdown",
   "metadata": {},
   "source": [
    "# Prepare The Dataset"
   ]
  },
  {
   "cell_type": "code",
   "execution_count": null,
   "metadata": {},
   "outputs": [],
   "source": [
    "# DATASET"
   ]
  },
  {
   "cell_type": "code",
   "execution_count": null,
   "metadata": {},
   "outputs": [],
   "source": [
    "# DATA LOADER"
   ]
  },
  {
   "cell_type": "markdown",
   "metadata": {},
   "source": [
    "# Define The Model"
   ]
  },
  {
   "cell_type": "code",
   "execution_count": null,
   "metadata": {},
   "outputs": [],
   "source": [
    "from torchvision import models\n",
    "import torch.nn as nn\n",
    "\n",
    "# MODEL"
   ]
  },
  {
   "cell_type": "markdown",
   "metadata": {},
   "source": [
    "# Define Loss Function and Optimizer"
   ]
  },
  {
   "cell_type": "code",
   "execution_count": null,
   "metadata": {},
   "outputs": [],
   "source": [
    "import torch.nn as nn\n",
    "import torch.optim as optim\n",
    "\n",
    "# LOSS FUNCTION\n",
    "\n",
    "\n",
    "# OPTIMIZER\n"
   ]
  },
  {
   "cell_type": "markdown",
   "metadata": {},
   "source": [
    "# Training Loop"
   ]
  },
  {
   "cell_type": "code",
   "execution_count": null,
   "metadata": {},
   "outputs": [],
   "source": [
    "import torch\n",
    "from tqdm import tqdm\n",
    "import os\n",
    "\n",
    "# DEFINE YOUR TRAINING VARIABLES\n",
    "num_epochs = \n",
    "model_save =\n",
    "device = \n",
    "\n",
    "# MOVE MODEL TO GPU\n",
    "\n",
    "\n",
    "for e in range(num_epochs):\n",
    "    # SET MODEL TO TRAINING MODE\n",
    "    \n",
    "    # UPDATE LEARNING RATE\n",
    "    \n",
    "    # CALL YOUR DATA LOADER\n",
    "    for images, labels in tqdm():\n",
    "\n",
    "        # MOVE DATA TO GPU\n",
    "\n",
    "        # EMPTY GRADIENTS\n",
    "\n",
    "        # PERFORM FORAWRD PASS\n",
    "\n",
    "        # COMPUTE LOSS\n",
    "\n",
    "        # PERFORM BACK PROPAGATION\n",
    "\n",
    "        # UPDATE PARAMETER\n",
    "        \n",
    "\n",
    "    # SAVE MODE WEIGHTS\n",
    "    if (e + 1) % model_save == 0:\n",
    "\n",
    "    print(f'Epoch {e+1}/{num_epochs} | train loss: {loss}')"
   ]
  },
  {
   "cell_type": "markdown",
   "metadata": {},
   "source": [
    "# TESTING LOOP"
   ]
  },
  {
   "cell_type": "code",
   "execution_count": null,
   "metadata": {},
   "outputs": [],
   "source": [
    "import torch\n",
    "from tqdm import tqdm\n",
    "from sklearn.metrics import (accuracy_score, balanced_accuracy_score, f1_score)\n",
    "\n",
    "\n",
    "# DEFINE TEST VARIABLES\n",
    "\n",
    "# LOAD MODEL WEIGHTS\n",
    "\n",
    "# SET MODEL TO EVALUATION MODE\n",
    "\n",
    "\n",
    "with torch.no_grad():\n",
    "    # CALL TEST DATA LOADER\n",
    "    for images, labels in tqdm():\n",
    "        \n",
    "         # MOVE DATA TO GPU\n",
    "\n",
    "         # CALL THE MODEL\n",
    "\n",
    "        # RETREIVE PREDICTED LABELS\n",
    "        \n",
    "\n",
    "# MOVE DATA BACK TO CPU FOR METRICS\n",
    "\n",
    "\n",
    "# COMPUTE FOR PERFORMANCE METRICS"
   ]
  }
 ],
 "metadata": {
  "language_info": {
   "name": "python"
  }
 },
 "nbformat": 4,
 "nbformat_minor": 2
}
