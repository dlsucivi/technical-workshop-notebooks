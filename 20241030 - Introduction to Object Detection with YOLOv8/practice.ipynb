{
 "cells": [
  {
   "cell_type": "markdown",
   "metadata": {},
   "source": [
    "## Importing Libraries"
   ]
  },
  {
   "cell_type": "code",
   "execution_count": null,
   "metadata": {},
   "outputs": [],
   "source": [
    "from ultralytics import YOLO\n",
    "import torch\n",
    "print(\"CUDA is available:\", torch.cuda.is_available())\n",
    "\n",
    "# For Visualizations\n",
    "import os\n",
    "import cv2\n",
    "import matplotlib.pyplot as plt\n",
    "%matplotlib inline"
   ]
  },
  {
   "cell_type": "markdown",
   "metadata": {},
   "source": [
    "## Preparing the Custom Dataset\n",
    "- You can find the dataset COCO128 under datasets, where the structure, images, and labels are already formatted for a YOLO model, with only the .yaml file missing. The task is to prepare the .yaml file containing the needed properties.\n",
    "\n",
    "- COCO128 has a total of 80 classes; `classes.txt` contains the list of classes and their corresponding class index"
   ]
  },
  {
   "cell_type": "markdown",
   "metadata": {},
   "source": [
    "## Train a YOLO model from scratch\n",
    "- Define a model from scratch\n",
    "- Use the prepared COCO128 dataset\n",
    "- Try different hyperparameters and augmentation settings to see how it affects training"
   ]
  },
  {
   "cell_type": "code",
   "execution_count": null,
   "metadata": {},
   "outputs": [],
   "source": [
    "# model.train()"
   ]
  },
  {
   "cell_type": "markdown",
   "metadata": {},
   "source": [
    "## Evaluate the YOLO model\n",
    "- Load the trained model's best weights\n",
    "- Evaluate using the test split of the COCO128 dataset\n",
    "- Try different thresholding parameters (Score, NMS) to see how it affects detections"
   ]
  },
  {
   "cell_type": "code",
   "execution_count": null,
   "metadata": {},
   "outputs": [],
   "source": [
    "# model.val()"
   ]
  },
  {
   "cell_type": "markdown",
   "metadata": {},
   "source": [
    "## Extract the Bounding Boxes\n",
    "- Perform inference on the test split of the COCO128 dataset\n",
    "- Get the bounding box from the object returned by the function\n",
    "- Explore the different formats of bounding boxes"
   ]
  },
  {
   "cell_type": "code",
   "execution_count": null,
   "metadata": {},
   "outputs": [],
   "source": [
    "# model.predict()"
   ]
  },
  {
   "cell_type": "markdown",
   "metadata": {},
   "source": [
    "## Draw the Bounding Box\n",
    "- Using the extracted bounding boxes, draw them on top of the original image\n",
    "- Visualize the image with detections"
   ]
  },
  {
   "cell_type": "code",
   "execution_count": null,
   "metadata": {},
   "outputs": [],
   "source": [
    "# Draw bounding box"
   ]
  },
  {
   "cell_type": "code",
   "execution_count": null,
   "metadata": {},
   "outputs": [],
   "source": [
    "# Visualize image with detection"
   ]
  }
 ],
 "metadata": {
  "language_info": {
   "name": "python"
  }
 },
 "nbformat": 4,
 "nbformat_minor": 2
}
